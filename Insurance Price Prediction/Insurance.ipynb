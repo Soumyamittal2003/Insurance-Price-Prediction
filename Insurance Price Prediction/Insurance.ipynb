{
 "cells": [
  {
   "cell_type": "code",
   "execution_count": 1,
   "metadata": {
    "id": "rrhyEUXUCt_J"
   },
   "outputs": [],
   "source": [
    "import pandas as pd"
   ]
  },
  {
   "cell_type": "code",
   "execution_count": 2,
   "metadata": {
    "id": "K2UKUs88C5Xn"
   },
   "outputs": [],
   "source": [
    "data=pd.read_csv(\"insurance.csv\")"
   ]
  },
  {
   "cell_type": "code",
   "execution_count": 3,
   "metadata": {
    "colab": {
     "base_uri": "https://localhost:8080/",
     "height": 206
    },
    "id": "ft_zgxqfDDJE",
    "outputId": "7721dbc6-be93-4319-c014-47bc87ea88f5"
   },
   "outputs": [
    {
     "data": {
      "text/html": [
       "<div>\n",
       "<style scoped>\n",
       "    .dataframe tbody tr th:only-of-type {\n",
       "        vertical-align: middle;\n",
       "    }\n",
       "\n",
       "    .dataframe tbody tr th {\n",
       "        vertical-align: top;\n",
       "    }\n",
       "\n",
       "    .dataframe thead th {\n",
       "        text-align: right;\n",
       "    }\n",
       "</style>\n",
       "<table border=\"1\" class=\"dataframe\">\n",
       "  <thead>\n",
       "    <tr style=\"text-align: right;\">\n",
       "      <th></th>\n",
       "      <th>age</th>\n",
       "      <th>sex</th>\n",
       "      <th>bmi</th>\n",
       "      <th>children</th>\n",
       "      <th>smoker</th>\n",
       "      <th>region</th>\n",
       "      <th>Diabetic Condition</th>\n",
       "      <th>Hypertension</th>\n",
       "      <th>Heart Issue</th>\n",
       "      <th>expenses</th>\n",
       "    </tr>\n",
       "  </thead>\n",
       "  <tbody>\n",
       "    <tr>\n",
       "      <th>0</th>\n",
       "      <td>19</td>\n",
       "      <td>female</td>\n",
       "      <td>27.900</td>\n",
       "      <td>0</td>\n",
       "      <td>yes</td>\n",
       "      <td>southwest</td>\n",
       "      <td>0</td>\n",
       "      <td>0</td>\n",
       "      <td>1</td>\n",
       "      <td>26884.92400</td>\n",
       "    </tr>\n",
       "    <tr>\n",
       "      <th>1</th>\n",
       "      <td>18</td>\n",
       "      <td>male</td>\n",
       "      <td>33.770</td>\n",
       "      <td>1</td>\n",
       "      <td>no</td>\n",
       "      <td>southeast</td>\n",
       "      <td>1</td>\n",
       "      <td>1</td>\n",
       "      <td>1</td>\n",
       "      <td>19725.55230</td>\n",
       "    </tr>\n",
       "    <tr>\n",
       "      <th>2</th>\n",
       "      <td>28</td>\n",
       "      <td>male</td>\n",
       "      <td>33.000</td>\n",
       "      <td>3</td>\n",
       "      <td>no</td>\n",
       "      <td>southeast</td>\n",
       "      <td>0</td>\n",
       "      <td>1</td>\n",
       "      <td>1</td>\n",
       "      <td>17449.46200</td>\n",
       "    </tr>\n",
       "    <tr>\n",
       "      <th>3</th>\n",
       "      <td>33</td>\n",
       "      <td>male</td>\n",
       "      <td>22.705</td>\n",
       "      <td>0</td>\n",
       "      <td>no</td>\n",
       "      <td>northwest</td>\n",
       "      <td>0</td>\n",
       "      <td>1</td>\n",
       "      <td>1</td>\n",
       "      <td>34984.47061</td>\n",
       "    </tr>\n",
       "    <tr>\n",
       "      <th>4</th>\n",
       "      <td>32</td>\n",
       "      <td>male</td>\n",
       "      <td>28.880</td>\n",
       "      <td>0</td>\n",
       "      <td>no</td>\n",
       "      <td>northwest</td>\n",
       "      <td>1</td>\n",
       "      <td>0</td>\n",
       "      <td>0</td>\n",
       "      <td>8866.85520</td>\n",
       "    </tr>\n",
       "  </tbody>\n",
       "</table>\n",
       "</div>"
      ],
      "text/plain": [
       "   age     sex     bmi  children smoker     region  Diabetic Condition  \\\n",
       "0   19  female  27.900         0    yes  southwest                   0   \n",
       "1   18    male  33.770         1     no  southeast                   1   \n",
       "2   28    male  33.000         3     no  southeast                   0   \n",
       "3   33    male  22.705         0     no  northwest                   0   \n",
       "4   32    male  28.880         0     no  northwest                   1   \n",
       "\n",
       "   Hypertension  Heart Issue     expenses  \n",
       "0             0            1  26884.92400  \n",
       "1             1            1  19725.55230  \n",
       "2             1            1  17449.46200  \n",
       "3             1            1  34984.47061  \n",
       "4             0            0   8866.85520  "
      ]
     },
     "execution_count": 3,
     "metadata": {},
     "output_type": "execute_result"
    }
   ],
   "source": [
    "data.head()"
   ]
  },
  {
   "cell_type": "code",
   "execution_count": 4,
   "metadata": {
    "id": "VqJc_UQSHaqo"
   },
   "outputs": [],
   "source": [
    "data.rename(columns={'Diabetic Condition': 'diabetic_condition', 'Hypertension': 'hypertension', 'Heart Issue': 'heart_issue','children':'No._of_Family_Members'}, inplace=True)"
   ]
  },
  {
   "cell_type": "code",
   "execution_count": 5,
   "metadata": {
    "colab": {
     "base_uri": "https://localhost:8080/",
     "height": 206
    },
    "id": "dXqcpGdWDFUJ",
    "outputId": "6290e65c-d821-4655-ac01-25fd66ff9f3e"
   },
   "outputs": [
    {
     "data": {
      "text/html": [
       "<div>\n",
       "<style scoped>\n",
       "    .dataframe tbody tr th:only-of-type {\n",
       "        vertical-align: middle;\n",
       "    }\n",
       "\n",
       "    .dataframe tbody tr th {\n",
       "        vertical-align: top;\n",
       "    }\n",
       "\n",
       "    .dataframe thead th {\n",
       "        text-align: right;\n",
       "    }\n",
       "</style>\n",
       "<table border=\"1\" class=\"dataframe\">\n",
       "  <thead>\n",
       "    <tr style=\"text-align: right;\">\n",
       "      <th></th>\n",
       "      <th>age</th>\n",
       "      <th>sex</th>\n",
       "      <th>bmi</th>\n",
       "      <th>No._of_Family_Members</th>\n",
       "      <th>smoker</th>\n",
       "      <th>region</th>\n",
       "      <th>diabetic_condition</th>\n",
       "      <th>hypertension</th>\n",
       "      <th>heart_issue</th>\n",
       "      <th>expenses</th>\n",
       "    </tr>\n",
       "  </thead>\n",
       "  <tbody>\n",
       "    <tr>\n",
       "      <th>1333</th>\n",
       "      <td>50</td>\n",
       "      <td>male</td>\n",
       "      <td>30.97</td>\n",
       "      <td>3</td>\n",
       "      <td>no</td>\n",
       "      <td>northwest</td>\n",
       "      <td>0</td>\n",
       "      <td>1</td>\n",
       "      <td>1</td>\n",
       "      <td>23600.5483</td>\n",
       "    </tr>\n",
       "    <tr>\n",
       "      <th>1334</th>\n",
       "      <td>18</td>\n",
       "      <td>female</td>\n",
       "      <td>31.92</td>\n",
       "      <td>0</td>\n",
       "      <td>no</td>\n",
       "      <td>northeast</td>\n",
       "      <td>0</td>\n",
       "      <td>0</td>\n",
       "      <td>0</td>\n",
       "      <td>2205.9808</td>\n",
       "    </tr>\n",
       "    <tr>\n",
       "      <th>1335</th>\n",
       "      <td>18</td>\n",
       "      <td>female</td>\n",
       "      <td>36.85</td>\n",
       "      <td>0</td>\n",
       "      <td>no</td>\n",
       "      <td>southeast</td>\n",
       "      <td>1</td>\n",
       "      <td>0</td>\n",
       "      <td>1</td>\n",
       "      <td>16629.8335</td>\n",
       "    </tr>\n",
       "    <tr>\n",
       "      <th>1336</th>\n",
       "      <td>21</td>\n",
       "      <td>female</td>\n",
       "      <td>25.80</td>\n",
       "      <td>0</td>\n",
       "      <td>no</td>\n",
       "      <td>southwest</td>\n",
       "      <td>1</td>\n",
       "      <td>0</td>\n",
       "      <td>0</td>\n",
       "      <td>7007.9450</td>\n",
       "    </tr>\n",
       "    <tr>\n",
       "      <th>1337</th>\n",
       "      <td>61</td>\n",
       "      <td>female</td>\n",
       "      <td>29.07</td>\n",
       "      <td>0</td>\n",
       "      <td>yes</td>\n",
       "      <td>northwest</td>\n",
       "      <td>0</td>\n",
       "      <td>0</td>\n",
       "      <td>1</td>\n",
       "      <td>39141.3603</td>\n",
       "    </tr>\n",
       "  </tbody>\n",
       "</table>\n",
       "</div>"
      ],
      "text/plain": [
       "      age     sex    bmi  No._of_Family_Members smoker     region  \\\n",
       "1333   50    male  30.97                      3     no  northwest   \n",
       "1334   18  female  31.92                      0     no  northeast   \n",
       "1335   18  female  36.85                      0     no  southeast   \n",
       "1336   21  female  25.80                      0     no  southwest   \n",
       "1337   61  female  29.07                      0    yes  northwest   \n",
       "\n",
       "      diabetic_condition  hypertension  heart_issue    expenses  \n",
       "1333                   0             1            1  23600.5483  \n",
       "1334                   0             0            0   2205.9808  \n",
       "1335                   1             0            1  16629.8335  \n",
       "1336                   1             0            0   7007.9450  \n",
       "1337                   0             0            1  39141.3603  "
      ]
     },
     "execution_count": 5,
     "metadata": {},
     "output_type": "execute_result"
    }
   ],
   "source": [
    "data.tail()"
   ]
  },
  {
   "cell_type": "code",
   "execution_count": 6,
   "metadata": {
    "colab": {
     "base_uri": "https://localhost:8080/"
    },
    "id": "5b_RsT8TDGNc",
    "outputId": "7e3c2495-1a9e-4e75-b7d1-defedf402197"
   },
   "outputs": [
    {
     "data": {
      "text/plain": [
       "(1338, 10)"
      ]
     },
     "execution_count": 6,
     "metadata": {},
     "output_type": "execute_result"
    }
   ],
   "source": [
    "data.shape"
   ]
  },
  {
   "cell_type": "code",
   "execution_count": 7,
   "metadata": {
    "colab": {
     "base_uri": "https://localhost:8080/"
    },
    "id": "hlnzSUiTDHBd",
    "outputId": "e5a9dab1-5ec7-49db-e5c4-8bb43ff9cced"
   },
   "outputs": [
    {
     "name": "stdout",
     "output_type": "stream",
     "text": [
      "Number of Rows 1338\n",
      "Number of Columns 10\n"
     ]
    }
   ],
   "source": [
    "print(\"Number of Rows\",data.shape[0])\n",
    "print(\"Number of Columns\",data.shape[1])"
   ]
  },
  {
   "cell_type": "code",
   "execution_count": 8,
   "metadata": {
    "colab": {
     "base_uri": "https://localhost:8080/"
    },
    "id": "zLdl4eNrDJu6",
    "outputId": "a8355c34-8214-4738-a564-e5949f88e41a"
   },
   "outputs": [
    {
     "name": "stdout",
     "output_type": "stream",
     "text": [
      "<class 'pandas.core.frame.DataFrame'>\n",
      "RangeIndex: 1338 entries, 0 to 1337\n",
      "Data columns (total 10 columns):\n",
      " #   Column                 Non-Null Count  Dtype  \n",
      "---  ------                 --------------  -----  \n",
      " 0   age                    1338 non-null   int64  \n",
      " 1   sex                    1338 non-null   object \n",
      " 2   bmi                    1338 non-null   float64\n",
      " 3   No._of_Family_Members  1338 non-null   int64  \n",
      " 4   smoker                 1338 non-null   object \n",
      " 5   region                 1338 non-null   object \n",
      " 6   diabetic_condition     1338 non-null   int64  \n",
      " 7   hypertension           1338 non-null   int64  \n",
      " 8   heart_issue            1338 non-null   int64  \n",
      " 9   expenses               1338 non-null   float64\n",
      "dtypes: float64(2), int64(5), object(3)\n",
      "memory usage: 104.7+ KB\n"
     ]
    }
   ],
   "source": [
    "data.info()"
   ]
  },
  {
   "cell_type": "code",
   "execution_count": 9,
   "metadata": {
    "colab": {
     "base_uri": "https://localhost:8080/"
    },
    "id": "k2lzS63jDPeH",
    "outputId": "c56b1cd5-57f6-4910-810c-f4baeab4dcb9"
   },
   "outputs": [
    {
     "data": {
      "text/plain": [
       "age                      0\n",
       "sex                      0\n",
       "bmi                      0\n",
       "No._of_Family_Members    0\n",
       "smoker                   0\n",
       "region                   0\n",
       "diabetic_condition       0\n",
       "hypertension             0\n",
       "heart_issue              0\n",
       "expenses                 0\n",
       "dtype: int64"
      ]
     },
     "execution_count": 9,
     "metadata": {},
     "output_type": "execute_result"
    }
   ],
   "source": [
    "data.isnull().sum()"
   ]
  },
  {
   "cell_type": "code",
   "execution_count": 10,
   "metadata": {
    "colab": {
     "base_uri": "https://localhost:8080/",
     "height": 300
    },
    "id": "r94cCcc0DRUM",
    "outputId": "2ae2ae19-093e-41e9-ca6b-0fa09a10abdd"
   },
   "outputs": [
    {
     "data": {
      "text/html": [
       "<div>\n",
       "<style scoped>\n",
       "    .dataframe tbody tr th:only-of-type {\n",
       "        vertical-align: middle;\n",
       "    }\n",
       "\n",
       "    .dataframe tbody tr th {\n",
       "        vertical-align: top;\n",
       "    }\n",
       "\n",
       "    .dataframe thead th {\n",
       "        text-align: right;\n",
       "    }\n",
       "</style>\n",
       "<table border=\"1\" class=\"dataframe\">\n",
       "  <thead>\n",
       "    <tr style=\"text-align: right;\">\n",
       "      <th></th>\n",
       "      <th>age</th>\n",
       "      <th>bmi</th>\n",
       "      <th>No._of_Family_Members</th>\n",
       "      <th>diabetic_condition</th>\n",
       "      <th>hypertension</th>\n",
       "      <th>heart_issue</th>\n",
       "      <th>expenses</th>\n",
       "    </tr>\n",
       "  </thead>\n",
       "  <tbody>\n",
       "    <tr>\n",
       "      <th>count</th>\n",
       "      <td>1338.000000</td>\n",
       "      <td>1338.000000</td>\n",
       "      <td>1338.000000</td>\n",
       "      <td>1338.000000</td>\n",
       "      <td>1338.000000</td>\n",
       "      <td>1338.000000</td>\n",
       "      <td>1338.000000</td>\n",
       "    </tr>\n",
       "    <tr>\n",
       "      <th>mean</th>\n",
       "      <td>39.207025</td>\n",
       "      <td>30.663397</td>\n",
       "      <td>1.094918</td>\n",
       "      <td>0.482063</td>\n",
       "      <td>0.523169</td>\n",
       "      <td>0.512706</td>\n",
       "      <td>22377.298199</td>\n",
       "    </tr>\n",
       "    <tr>\n",
       "      <th>std</th>\n",
       "      <td>14.049960</td>\n",
       "      <td>6.098187</td>\n",
       "      <td>1.205493</td>\n",
       "      <td>0.499865</td>\n",
       "      <td>0.499650</td>\n",
       "      <td>0.500025</td>\n",
       "      <td>13626.045012</td>\n",
       "    </tr>\n",
       "    <tr>\n",
       "      <th>min</th>\n",
       "      <td>18.000000</td>\n",
       "      <td>15.960000</td>\n",
       "      <td>0.000000</td>\n",
       "      <td>0.000000</td>\n",
       "      <td>0.000000</td>\n",
       "      <td>0.000000</td>\n",
       "      <td>1136.399400</td>\n",
       "    </tr>\n",
       "    <tr>\n",
       "      <th>25%</th>\n",
       "      <td>27.000000</td>\n",
       "      <td>26.296250</td>\n",
       "      <td>0.000000</td>\n",
       "      <td>0.000000</td>\n",
       "      <td>0.000000</td>\n",
       "      <td>0.000000</td>\n",
       "      <td>12633.614875</td>\n",
       "    </tr>\n",
       "    <tr>\n",
       "      <th>50%</th>\n",
       "      <td>39.000000</td>\n",
       "      <td>30.400000</td>\n",
       "      <td>1.000000</td>\n",
       "      <td>0.000000</td>\n",
       "      <td>1.000000</td>\n",
       "      <td>1.000000</td>\n",
       "      <td>19840.351225</td>\n",
       "    </tr>\n",
       "    <tr>\n",
       "      <th>75%</th>\n",
       "      <td>51.000000</td>\n",
       "      <td>34.693750</td>\n",
       "      <td>2.000000</td>\n",
       "      <td>1.000000</td>\n",
       "      <td>1.000000</td>\n",
       "      <td>1.000000</td>\n",
       "      <td>28072.717420</td>\n",
       "    </tr>\n",
       "    <tr>\n",
       "      <th>max</th>\n",
       "      <td>64.000000</td>\n",
       "      <td>53.130000</td>\n",
       "      <td>5.000000</td>\n",
       "      <td>1.000000</td>\n",
       "      <td>1.000000</td>\n",
       "      <td>1.000000</td>\n",
       "      <td>78021.398970</td>\n",
       "    </tr>\n",
       "  </tbody>\n",
       "</table>\n",
       "</div>"
      ],
      "text/plain": [
       "               age          bmi  No._of_Family_Members  diabetic_condition  \\\n",
       "count  1338.000000  1338.000000            1338.000000         1338.000000   \n",
       "mean     39.207025    30.663397               1.094918            0.482063   \n",
       "std      14.049960     6.098187               1.205493            0.499865   \n",
       "min      18.000000    15.960000               0.000000            0.000000   \n",
       "25%      27.000000    26.296250               0.000000            0.000000   \n",
       "50%      39.000000    30.400000               1.000000            0.000000   \n",
       "75%      51.000000    34.693750               2.000000            1.000000   \n",
       "max      64.000000    53.130000               5.000000            1.000000   \n",
       "\n",
       "       hypertension  heart_issue      expenses  \n",
       "count   1338.000000  1338.000000   1338.000000  \n",
       "mean       0.523169     0.512706  22377.298199  \n",
       "std        0.499650     0.500025  13626.045012  \n",
       "min        0.000000     0.000000   1136.399400  \n",
       "25%        0.000000     0.000000  12633.614875  \n",
       "50%        1.000000     1.000000  19840.351225  \n",
       "75%        1.000000     1.000000  28072.717420  \n",
       "max        1.000000     1.000000  78021.398970  "
      ]
     },
     "execution_count": 10,
     "metadata": {},
     "output_type": "execute_result"
    }
   ],
   "source": [
    "data.describe()"
   ]
  },
  {
   "cell_type": "code",
   "execution_count": 11,
   "metadata": {
    "colab": {
     "base_uri": "https://localhost:8080/",
     "height": 394
    },
    "id": "9F8e1Sg7DUrU",
    "outputId": "f5df173f-2ad9-482e-e0b0-a28c501b3d8e"
   },
   "outputs": [
    {
     "data": {
      "text/html": [
       "<div>\n",
       "<style scoped>\n",
       "    .dataframe tbody tr th:only-of-type {\n",
       "        vertical-align: middle;\n",
       "    }\n",
       "\n",
       "    .dataframe tbody tr th {\n",
       "        vertical-align: top;\n",
       "    }\n",
       "\n",
       "    .dataframe thead th {\n",
       "        text-align: right;\n",
       "    }\n",
       "</style>\n",
       "<table border=\"1\" class=\"dataframe\">\n",
       "  <thead>\n",
       "    <tr style=\"text-align: right;\">\n",
       "      <th></th>\n",
       "      <th>age</th>\n",
       "      <th>sex</th>\n",
       "      <th>bmi</th>\n",
       "      <th>No._of_Family_Members</th>\n",
       "      <th>smoker</th>\n",
       "      <th>region</th>\n",
       "      <th>diabetic_condition</th>\n",
       "      <th>hypertension</th>\n",
       "      <th>heart_issue</th>\n",
       "      <th>expenses</th>\n",
       "    </tr>\n",
       "  </thead>\n",
       "  <tbody>\n",
       "    <tr>\n",
       "      <th>count</th>\n",
       "      <td>1338.000000</td>\n",
       "      <td>1338</td>\n",
       "      <td>1338.000000</td>\n",
       "      <td>1338.000000</td>\n",
       "      <td>1338</td>\n",
       "      <td>1338</td>\n",
       "      <td>1338.000000</td>\n",
       "      <td>1338.000000</td>\n",
       "      <td>1338.000000</td>\n",
       "      <td>1338.000000</td>\n",
       "    </tr>\n",
       "    <tr>\n",
       "      <th>unique</th>\n",
       "      <td>NaN</td>\n",
       "      <td>2</td>\n",
       "      <td>NaN</td>\n",
       "      <td>NaN</td>\n",
       "      <td>2</td>\n",
       "      <td>4</td>\n",
       "      <td>NaN</td>\n",
       "      <td>NaN</td>\n",
       "      <td>NaN</td>\n",
       "      <td>NaN</td>\n",
       "    </tr>\n",
       "    <tr>\n",
       "      <th>top</th>\n",
       "      <td>NaN</td>\n",
       "      <td>male</td>\n",
       "      <td>NaN</td>\n",
       "      <td>NaN</td>\n",
       "      <td>no</td>\n",
       "      <td>southeast</td>\n",
       "      <td>NaN</td>\n",
       "      <td>NaN</td>\n",
       "      <td>NaN</td>\n",
       "      <td>NaN</td>\n",
       "    </tr>\n",
       "    <tr>\n",
       "      <th>freq</th>\n",
       "      <td>NaN</td>\n",
       "      <td>676</td>\n",
       "      <td>NaN</td>\n",
       "      <td>NaN</td>\n",
       "      <td>1064</td>\n",
       "      <td>364</td>\n",
       "      <td>NaN</td>\n",
       "      <td>NaN</td>\n",
       "      <td>NaN</td>\n",
       "      <td>NaN</td>\n",
       "    </tr>\n",
       "    <tr>\n",
       "      <th>mean</th>\n",
       "      <td>39.207025</td>\n",
       "      <td>NaN</td>\n",
       "      <td>30.663397</td>\n",
       "      <td>1.094918</td>\n",
       "      <td>NaN</td>\n",
       "      <td>NaN</td>\n",
       "      <td>0.482063</td>\n",
       "      <td>0.523169</td>\n",
       "      <td>0.512706</td>\n",
       "      <td>22377.298199</td>\n",
       "    </tr>\n",
       "    <tr>\n",
       "      <th>std</th>\n",
       "      <td>14.049960</td>\n",
       "      <td>NaN</td>\n",
       "      <td>6.098187</td>\n",
       "      <td>1.205493</td>\n",
       "      <td>NaN</td>\n",
       "      <td>NaN</td>\n",
       "      <td>0.499865</td>\n",
       "      <td>0.499650</td>\n",
       "      <td>0.500025</td>\n",
       "      <td>13626.045012</td>\n",
       "    </tr>\n",
       "    <tr>\n",
       "      <th>min</th>\n",
       "      <td>18.000000</td>\n",
       "      <td>NaN</td>\n",
       "      <td>15.960000</td>\n",
       "      <td>0.000000</td>\n",
       "      <td>NaN</td>\n",
       "      <td>NaN</td>\n",
       "      <td>0.000000</td>\n",
       "      <td>0.000000</td>\n",
       "      <td>0.000000</td>\n",
       "      <td>1136.399400</td>\n",
       "    </tr>\n",
       "    <tr>\n",
       "      <th>25%</th>\n",
       "      <td>27.000000</td>\n",
       "      <td>NaN</td>\n",
       "      <td>26.296250</td>\n",
       "      <td>0.000000</td>\n",
       "      <td>NaN</td>\n",
       "      <td>NaN</td>\n",
       "      <td>0.000000</td>\n",
       "      <td>0.000000</td>\n",
       "      <td>0.000000</td>\n",
       "      <td>12633.614875</td>\n",
       "    </tr>\n",
       "    <tr>\n",
       "      <th>50%</th>\n",
       "      <td>39.000000</td>\n",
       "      <td>NaN</td>\n",
       "      <td>30.400000</td>\n",
       "      <td>1.000000</td>\n",
       "      <td>NaN</td>\n",
       "      <td>NaN</td>\n",
       "      <td>0.000000</td>\n",
       "      <td>1.000000</td>\n",
       "      <td>1.000000</td>\n",
       "      <td>19840.351225</td>\n",
       "    </tr>\n",
       "    <tr>\n",
       "      <th>75%</th>\n",
       "      <td>51.000000</td>\n",
       "      <td>NaN</td>\n",
       "      <td>34.693750</td>\n",
       "      <td>2.000000</td>\n",
       "      <td>NaN</td>\n",
       "      <td>NaN</td>\n",
       "      <td>1.000000</td>\n",
       "      <td>1.000000</td>\n",
       "      <td>1.000000</td>\n",
       "      <td>28072.717420</td>\n",
       "    </tr>\n",
       "    <tr>\n",
       "      <th>max</th>\n",
       "      <td>64.000000</td>\n",
       "      <td>NaN</td>\n",
       "      <td>53.130000</td>\n",
       "      <td>5.000000</td>\n",
       "      <td>NaN</td>\n",
       "      <td>NaN</td>\n",
       "      <td>1.000000</td>\n",
       "      <td>1.000000</td>\n",
       "      <td>1.000000</td>\n",
       "      <td>78021.398970</td>\n",
       "    </tr>\n",
       "  </tbody>\n",
       "</table>\n",
       "</div>"
      ],
      "text/plain": [
       "                age   sex          bmi  No._of_Family_Members smoker  \\\n",
       "count   1338.000000  1338  1338.000000            1338.000000   1338   \n",
       "unique          NaN     2          NaN                    NaN      2   \n",
       "top             NaN  male          NaN                    NaN     no   \n",
       "freq            NaN   676          NaN                    NaN   1064   \n",
       "mean      39.207025   NaN    30.663397               1.094918    NaN   \n",
       "std       14.049960   NaN     6.098187               1.205493    NaN   \n",
       "min       18.000000   NaN    15.960000               0.000000    NaN   \n",
       "25%       27.000000   NaN    26.296250               0.000000    NaN   \n",
       "50%       39.000000   NaN    30.400000               1.000000    NaN   \n",
       "75%       51.000000   NaN    34.693750               2.000000    NaN   \n",
       "max       64.000000   NaN    53.130000               5.000000    NaN   \n",
       "\n",
       "           region  diabetic_condition  hypertension  heart_issue      expenses  \n",
       "count        1338         1338.000000   1338.000000  1338.000000   1338.000000  \n",
       "unique          4                 NaN           NaN          NaN           NaN  \n",
       "top     southeast                 NaN           NaN          NaN           NaN  \n",
       "freq          364                 NaN           NaN          NaN           NaN  \n",
       "mean          NaN            0.482063      0.523169     0.512706  22377.298199  \n",
       "std           NaN            0.499865      0.499650     0.500025  13626.045012  \n",
       "min           NaN            0.000000      0.000000     0.000000   1136.399400  \n",
       "25%           NaN            0.000000      0.000000     0.000000  12633.614875  \n",
       "50%           NaN            0.000000      1.000000     1.000000  19840.351225  \n",
       "75%           NaN            1.000000      1.000000     1.000000  28072.717420  \n",
       "max           NaN            1.000000      1.000000     1.000000  78021.398970  "
      ]
     },
     "execution_count": 11,
     "metadata": {},
     "output_type": "execute_result"
    }
   ],
   "source": [
    "data.describe(include='all')"
   ]
  },
  {
   "cell_type": "code",
   "execution_count": 12,
   "metadata": {
    "id": "v7iFu5-kDU3g"
   },
   "outputs": [],
   "source": [
    "data['sex'].unique()\n",
    "data['sex']=data['sex'].map({'female':0,'male':1})\n",
    "data['smoker']=data['smoker'].map({'yes':1,'no':0})\n",
    "data['region']=data['region'].map({'southwest':1,'southeast':2,'northwest':3,'northeast':4})"
   ]
  },
  {
   "cell_type": "code",
   "execution_count": 13,
   "metadata": {
    "colab": {
     "base_uri": "https://localhost:8080/",
     "height": 206
    },
    "id": "SnUJVTuHDZ4_",
    "outputId": "a6f18f79-825c-42ca-f3ca-b72cd24186e4"
   },
   "outputs": [
    {
     "data": {
      "text/html": [
       "<div>\n",
       "<style scoped>\n",
       "    .dataframe tbody tr th:only-of-type {\n",
       "        vertical-align: middle;\n",
       "    }\n",
       "\n",
       "    .dataframe tbody tr th {\n",
       "        vertical-align: top;\n",
       "    }\n",
       "\n",
       "    .dataframe thead th {\n",
       "        text-align: right;\n",
       "    }\n",
       "</style>\n",
       "<table border=\"1\" class=\"dataframe\">\n",
       "  <thead>\n",
       "    <tr style=\"text-align: right;\">\n",
       "      <th></th>\n",
       "      <th>age</th>\n",
       "      <th>sex</th>\n",
       "      <th>bmi</th>\n",
       "      <th>No._of_Family_Members</th>\n",
       "      <th>smoker</th>\n",
       "      <th>region</th>\n",
       "      <th>diabetic_condition</th>\n",
       "      <th>hypertension</th>\n",
       "      <th>heart_issue</th>\n",
       "      <th>expenses</th>\n",
       "    </tr>\n",
       "  </thead>\n",
       "  <tbody>\n",
       "    <tr>\n",
       "      <th>0</th>\n",
       "      <td>19</td>\n",
       "      <td>0</td>\n",
       "      <td>27.900</td>\n",
       "      <td>0</td>\n",
       "      <td>1</td>\n",
       "      <td>1</td>\n",
       "      <td>0</td>\n",
       "      <td>0</td>\n",
       "      <td>1</td>\n",
       "      <td>26884.92400</td>\n",
       "    </tr>\n",
       "    <tr>\n",
       "      <th>1</th>\n",
       "      <td>18</td>\n",
       "      <td>1</td>\n",
       "      <td>33.770</td>\n",
       "      <td>1</td>\n",
       "      <td>0</td>\n",
       "      <td>2</td>\n",
       "      <td>1</td>\n",
       "      <td>1</td>\n",
       "      <td>1</td>\n",
       "      <td>19725.55230</td>\n",
       "    </tr>\n",
       "    <tr>\n",
       "      <th>2</th>\n",
       "      <td>28</td>\n",
       "      <td>1</td>\n",
       "      <td>33.000</td>\n",
       "      <td>3</td>\n",
       "      <td>0</td>\n",
       "      <td>2</td>\n",
       "      <td>0</td>\n",
       "      <td>1</td>\n",
       "      <td>1</td>\n",
       "      <td>17449.46200</td>\n",
       "    </tr>\n",
       "    <tr>\n",
       "      <th>3</th>\n",
       "      <td>33</td>\n",
       "      <td>1</td>\n",
       "      <td>22.705</td>\n",
       "      <td>0</td>\n",
       "      <td>0</td>\n",
       "      <td>3</td>\n",
       "      <td>0</td>\n",
       "      <td>1</td>\n",
       "      <td>1</td>\n",
       "      <td>34984.47061</td>\n",
       "    </tr>\n",
       "    <tr>\n",
       "      <th>4</th>\n",
       "      <td>32</td>\n",
       "      <td>1</td>\n",
       "      <td>28.880</td>\n",
       "      <td>0</td>\n",
       "      <td>0</td>\n",
       "      <td>3</td>\n",
       "      <td>1</td>\n",
       "      <td>0</td>\n",
       "      <td>0</td>\n",
       "      <td>8866.85520</td>\n",
       "    </tr>\n",
       "  </tbody>\n",
       "</table>\n",
       "</div>"
      ],
      "text/plain": [
       "   age  sex     bmi  No._of_Family_Members  smoker  region  \\\n",
       "0   19    0  27.900                      0       1       1   \n",
       "1   18    1  33.770                      1       0       2   \n",
       "2   28    1  33.000                      3       0       2   \n",
       "3   33    1  22.705                      0       0       3   \n",
       "4   32    1  28.880                      0       0       3   \n",
       "\n",
       "   diabetic_condition  hypertension  heart_issue     expenses  \n",
       "0                   0             0            1  26884.92400  \n",
       "1                   1             1            1  19725.55230  \n",
       "2                   0             1            1  17449.46200  \n",
       "3                   0             1            1  34984.47061  \n",
       "4                   1             0            0   8866.85520  "
      ]
     },
     "execution_count": 13,
     "metadata": {},
     "output_type": "execute_result"
    }
   ],
   "source": [
    "data.head()"
   ]
  },
  {
   "cell_type": "code",
   "execution_count": 14,
   "metadata": {
    "colab": {
     "base_uri": "https://localhost:8080/",
     "height": 206
    },
    "id": "_1CsewTIDdZi",
    "outputId": "e9968b2f-cbb4-496d-f53e-165aba51fd23"
   },
   "outputs": [
    {
     "data": {
      "text/html": [
       "<div>\n",
       "<style scoped>\n",
       "    .dataframe tbody tr th:only-of-type {\n",
       "        vertical-align: middle;\n",
       "    }\n",
       "\n",
       "    .dataframe tbody tr th {\n",
       "        vertical-align: top;\n",
       "    }\n",
       "\n",
       "    .dataframe thead th {\n",
       "        text-align: right;\n",
       "    }\n",
       "</style>\n",
       "<table border=\"1\" class=\"dataframe\">\n",
       "  <thead>\n",
       "    <tr style=\"text-align: right;\">\n",
       "      <th></th>\n",
       "      <th>age</th>\n",
       "      <th>sex</th>\n",
       "      <th>bmi</th>\n",
       "      <th>No._of_Family_Members</th>\n",
       "      <th>smoker</th>\n",
       "      <th>region</th>\n",
       "      <th>diabetic_condition</th>\n",
       "      <th>hypertension</th>\n",
       "      <th>heart_issue</th>\n",
       "      <th>expenses</th>\n",
       "    </tr>\n",
       "  </thead>\n",
       "  <tbody>\n",
       "    <tr>\n",
       "      <th>1333</th>\n",
       "      <td>50</td>\n",
       "      <td>1</td>\n",
       "      <td>30.97</td>\n",
       "      <td>3</td>\n",
       "      <td>0</td>\n",
       "      <td>3</td>\n",
       "      <td>0</td>\n",
       "      <td>1</td>\n",
       "      <td>1</td>\n",
       "      <td>23600.5483</td>\n",
       "    </tr>\n",
       "    <tr>\n",
       "      <th>1334</th>\n",
       "      <td>18</td>\n",
       "      <td>0</td>\n",
       "      <td>31.92</td>\n",
       "      <td>0</td>\n",
       "      <td>0</td>\n",
       "      <td>4</td>\n",
       "      <td>0</td>\n",
       "      <td>0</td>\n",
       "      <td>0</td>\n",
       "      <td>2205.9808</td>\n",
       "    </tr>\n",
       "    <tr>\n",
       "      <th>1335</th>\n",
       "      <td>18</td>\n",
       "      <td>0</td>\n",
       "      <td>36.85</td>\n",
       "      <td>0</td>\n",
       "      <td>0</td>\n",
       "      <td>2</td>\n",
       "      <td>1</td>\n",
       "      <td>0</td>\n",
       "      <td>1</td>\n",
       "      <td>16629.8335</td>\n",
       "    </tr>\n",
       "    <tr>\n",
       "      <th>1336</th>\n",
       "      <td>21</td>\n",
       "      <td>0</td>\n",
       "      <td>25.80</td>\n",
       "      <td>0</td>\n",
       "      <td>0</td>\n",
       "      <td>1</td>\n",
       "      <td>1</td>\n",
       "      <td>0</td>\n",
       "      <td>0</td>\n",
       "      <td>7007.9450</td>\n",
       "    </tr>\n",
       "    <tr>\n",
       "      <th>1337</th>\n",
       "      <td>61</td>\n",
       "      <td>0</td>\n",
       "      <td>29.07</td>\n",
       "      <td>0</td>\n",
       "      <td>1</td>\n",
       "      <td>3</td>\n",
       "      <td>0</td>\n",
       "      <td>0</td>\n",
       "      <td>1</td>\n",
       "      <td>39141.3603</td>\n",
       "    </tr>\n",
       "  </tbody>\n",
       "</table>\n",
       "</div>"
      ],
      "text/plain": [
       "      age  sex    bmi  No._of_Family_Members  smoker  region  \\\n",
       "1333   50    1  30.97                      3       0       3   \n",
       "1334   18    0  31.92                      0       0       4   \n",
       "1335   18    0  36.85                      0       0       2   \n",
       "1336   21    0  25.80                      0       0       1   \n",
       "1337   61    0  29.07                      0       1       3   \n",
       "\n",
       "      diabetic_condition  hypertension  heart_issue    expenses  \n",
       "1333                   0             1            1  23600.5483  \n",
       "1334                   0             0            0   2205.9808  \n",
       "1335                   1             0            1  16629.8335  \n",
       "1336                   1             0            0   7007.9450  \n",
       "1337                   0             0            1  39141.3603  "
      ]
     },
     "execution_count": 14,
     "metadata": {},
     "output_type": "execute_result"
    }
   ],
   "source": [
    "data.tail()"
   ]
  },
  {
   "cell_type": "code",
   "execution_count": 15,
   "metadata": {
    "id": "M73XpFvXDera"
   },
   "outputs": [],
   "source": [
    "X = data.drop(['expenses'],axis=1)\n",
    "y = data['expenses']"
   ]
  },
  {
   "cell_type": "code",
   "execution_count": 16,
   "metadata": {
    "colab": {
     "base_uri": "https://localhost:8080/",
     "height": 423
    },
    "id": "hO87zakDGePt",
    "outputId": "41d62346-bb75-4e56-d67a-b2fdeb8fde4a"
   },
   "outputs": [
    {
     "data": {
      "text/html": [
       "<div>\n",
       "<style scoped>\n",
       "    .dataframe tbody tr th:only-of-type {\n",
       "        vertical-align: middle;\n",
       "    }\n",
       "\n",
       "    .dataframe tbody tr th {\n",
       "        vertical-align: top;\n",
       "    }\n",
       "\n",
       "    .dataframe thead th {\n",
       "        text-align: right;\n",
       "    }\n",
       "</style>\n",
       "<table border=\"1\" class=\"dataframe\">\n",
       "  <thead>\n",
       "    <tr style=\"text-align: right;\">\n",
       "      <th></th>\n",
       "      <th>age</th>\n",
       "      <th>sex</th>\n",
       "      <th>bmi</th>\n",
       "      <th>No._of_Family_Members</th>\n",
       "      <th>smoker</th>\n",
       "      <th>region</th>\n",
       "      <th>diabetic_condition</th>\n",
       "      <th>hypertension</th>\n",
       "      <th>heart_issue</th>\n",
       "    </tr>\n",
       "  </thead>\n",
       "  <tbody>\n",
       "    <tr>\n",
       "      <th>0</th>\n",
       "      <td>19</td>\n",
       "      <td>0</td>\n",
       "      <td>27.900</td>\n",
       "      <td>0</td>\n",
       "      <td>1</td>\n",
       "      <td>1</td>\n",
       "      <td>0</td>\n",
       "      <td>0</td>\n",
       "      <td>1</td>\n",
       "    </tr>\n",
       "    <tr>\n",
       "      <th>1</th>\n",
       "      <td>18</td>\n",
       "      <td>1</td>\n",
       "      <td>33.770</td>\n",
       "      <td>1</td>\n",
       "      <td>0</td>\n",
       "      <td>2</td>\n",
       "      <td>1</td>\n",
       "      <td>1</td>\n",
       "      <td>1</td>\n",
       "    </tr>\n",
       "    <tr>\n",
       "      <th>2</th>\n",
       "      <td>28</td>\n",
       "      <td>1</td>\n",
       "      <td>33.000</td>\n",
       "      <td>3</td>\n",
       "      <td>0</td>\n",
       "      <td>2</td>\n",
       "      <td>0</td>\n",
       "      <td>1</td>\n",
       "      <td>1</td>\n",
       "    </tr>\n",
       "    <tr>\n",
       "      <th>3</th>\n",
       "      <td>33</td>\n",
       "      <td>1</td>\n",
       "      <td>22.705</td>\n",
       "      <td>0</td>\n",
       "      <td>0</td>\n",
       "      <td>3</td>\n",
       "      <td>0</td>\n",
       "      <td>1</td>\n",
       "      <td>1</td>\n",
       "    </tr>\n",
       "    <tr>\n",
       "      <th>4</th>\n",
       "      <td>32</td>\n",
       "      <td>1</td>\n",
       "      <td>28.880</td>\n",
       "      <td>0</td>\n",
       "      <td>0</td>\n",
       "      <td>3</td>\n",
       "      <td>1</td>\n",
       "      <td>0</td>\n",
       "      <td>0</td>\n",
       "    </tr>\n",
       "    <tr>\n",
       "      <th>...</th>\n",
       "      <td>...</td>\n",
       "      <td>...</td>\n",
       "      <td>...</td>\n",
       "      <td>...</td>\n",
       "      <td>...</td>\n",
       "      <td>...</td>\n",
       "      <td>...</td>\n",
       "      <td>...</td>\n",
       "      <td>...</td>\n",
       "    </tr>\n",
       "    <tr>\n",
       "      <th>1333</th>\n",
       "      <td>50</td>\n",
       "      <td>1</td>\n",
       "      <td>30.970</td>\n",
       "      <td>3</td>\n",
       "      <td>0</td>\n",
       "      <td>3</td>\n",
       "      <td>0</td>\n",
       "      <td>1</td>\n",
       "      <td>1</td>\n",
       "    </tr>\n",
       "    <tr>\n",
       "      <th>1334</th>\n",
       "      <td>18</td>\n",
       "      <td>0</td>\n",
       "      <td>31.920</td>\n",
       "      <td>0</td>\n",
       "      <td>0</td>\n",
       "      <td>4</td>\n",
       "      <td>0</td>\n",
       "      <td>0</td>\n",
       "      <td>0</td>\n",
       "    </tr>\n",
       "    <tr>\n",
       "      <th>1335</th>\n",
       "      <td>18</td>\n",
       "      <td>0</td>\n",
       "      <td>36.850</td>\n",
       "      <td>0</td>\n",
       "      <td>0</td>\n",
       "      <td>2</td>\n",
       "      <td>1</td>\n",
       "      <td>0</td>\n",
       "      <td>1</td>\n",
       "    </tr>\n",
       "    <tr>\n",
       "      <th>1336</th>\n",
       "      <td>21</td>\n",
       "      <td>0</td>\n",
       "      <td>25.800</td>\n",
       "      <td>0</td>\n",
       "      <td>0</td>\n",
       "      <td>1</td>\n",
       "      <td>1</td>\n",
       "      <td>0</td>\n",
       "      <td>0</td>\n",
       "    </tr>\n",
       "    <tr>\n",
       "      <th>1337</th>\n",
       "      <td>61</td>\n",
       "      <td>0</td>\n",
       "      <td>29.070</td>\n",
       "      <td>0</td>\n",
       "      <td>1</td>\n",
       "      <td>3</td>\n",
       "      <td>0</td>\n",
       "      <td>0</td>\n",
       "      <td>1</td>\n",
       "    </tr>\n",
       "  </tbody>\n",
       "</table>\n",
       "<p>1338 rows × 9 columns</p>\n",
       "</div>"
      ],
      "text/plain": [
       "      age  sex     bmi  No._of_Family_Members  smoker  region  \\\n",
       "0      19    0  27.900                      0       1       1   \n",
       "1      18    1  33.770                      1       0       2   \n",
       "2      28    1  33.000                      3       0       2   \n",
       "3      33    1  22.705                      0       0       3   \n",
       "4      32    1  28.880                      0       0       3   \n",
       "...   ...  ...     ...                    ...     ...     ...   \n",
       "1333   50    1  30.970                      3       0       3   \n",
       "1334   18    0  31.920                      0       0       4   \n",
       "1335   18    0  36.850                      0       0       2   \n",
       "1336   21    0  25.800                      0       0       1   \n",
       "1337   61    0  29.070                      0       1       3   \n",
       "\n",
       "      diabetic_condition  hypertension  heart_issue  \n",
       "0                      0             0            1  \n",
       "1                      1             1            1  \n",
       "2                      0             1            1  \n",
       "3                      0             1            1  \n",
       "4                      1             0            0  \n",
       "...                  ...           ...          ...  \n",
       "1333                   0             1            1  \n",
       "1334                   0             0            0  \n",
       "1335                   1             0            1  \n",
       "1336                   1             0            0  \n",
       "1337                   0             0            1  \n",
       "\n",
       "[1338 rows x 9 columns]"
      ]
     },
     "execution_count": 16,
     "metadata": {},
     "output_type": "execute_result"
    }
   ],
   "source": [
    "X"
   ]
  },
  {
   "cell_type": "code",
   "execution_count": 17,
   "metadata": {
    "id": "r1QrbHpYDirS"
   },
   "outputs": [
    {
     "name": "stderr",
     "output_type": "stream",
     "text": [
      "c:\\ProgramData\\Anaconda3\\lib\\site-packages\\scipy\\__init__.py:146: UserWarning: A NumPy version >=1.16.5 and <1.23.0 is required for this version of SciPy (detected version 1.26.2\n",
      "  warnings.warn(f\"A NumPy version >={np_minversion} and <{np_maxversion}\"\n"
     ]
    }
   ],
   "source": [
    "from sklearn.model_selection import train_test_split\n",
    "X_train,X_test,y_train,y_test=train_test_split(X,y,test_size=0.2,random_state=42)"
   ]
  },
  {
   "cell_type": "code",
   "execution_count": 18,
   "metadata": {
    "id": "vE-hPZNkDk04"
   },
   "outputs": [],
   "source": [
    "from sklearn.linear_model import LinearRegression\n",
    "from sklearn.svm import SVR\n",
    "from sklearn.ensemble import RandomForestRegressor\n",
    "from sklearn.ensemble import GradientBoostingRegressor"
   ]
  },
  {
   "cell_type": "code",
   "execution_count": 19,
   "metadata": {
    "colab": {
     "base_uri": "https://localhost:8080/",
     "height": 74
    },
    "id": "05X5RPS-Dmv3",
    "outputId": "431a8502-43c9-47e2-e5fd-47194306a9d0"
   },
   "outputs": [
    {
     "data": {
      "text/plain": [
       "GradientBoostingRegressor()"
      ]
     },
     "execution_count": 19,
     "metadata": {},
     "output_type": "execute_result"
    }
   ],
   "source": [
    "lr = LinearRegression()\n",
    "lr.fit(X_train,y_train)\n",
    "svm = SVR()\n",
    "svm.fit(X_train,y_train)\n",
    "rf = RandomForestRegressor()\n",
    "rf.fit(X_train,y_train)\n",
    "gr = GradientBoostingRegressor()\n",
    "gr.fit(X_train,y_train)"
   ]
  },
  {
   "cell_type": "code",
   "execution_count": 20,
   "metadata": {
    "colab": {
     "base_uri": "https://localhost:8080/",
     "height": 423
    },
    "id": "LC985gXXDoaH",
    "outputId": "5ea87012-74ed-49d9-a0aa-c93edd368d70"
   },
   "outputs": [
    {
     "data": {
      "text/html": [
       "<div>\n",
       "<style scoped>\n",
       "    .dataframe tbody tr th:only-of-type {\n",
       "        vertical-align: middle;\n",
       "    }\n",
       "\n",
       "    .dataframe tbody tr th {\n",
       "        vertical-align: top;\n",
       "    }\n",
       "\n",
       "    .dataframe thead th {\n",
       "        text-align: right;\n",
       "    }\n",
       "</style>\n",
       "<table border=\"1\" class=\"dataframe\">\n",
       "  <thead>\n",
       "    <tr style=\"text-align: right;\">\n",
       "      <th></th>\n",
       "      <th>Actual</th>\n",
       "      <th>Lr</th>\n",
       "      <th>svm</th>\n",
       "      <th>rf</th>\n",
       "      <th>gr</th>\n",
       "    </tr>\n",
       "  </thead>\n",
       "  <tbody>\n",
       "    <tr>\n",
       "      <th>764</th>\n",
       "      <td>22095.06825</td>\n",
       "      <td>21793.958326</td>\n",
       "      <td>19800.718418</td>\n",
       "      <td>24965.337742</td>\n",
       "      <td>24848.441178</td>\n",
       "    </tr>\n",
       "    <tr>\n",
       "      <th>887</th>\n",
       "      <td>23272.17580</td>\n",
       "      <td>24995.325823</td>\n",
       "      <td>19770.106858</td>\n",
       "      <td>22680.856842</td>\n",
       "      <td>24016.868217</td>\n",
       "    </tr>\n",
       "    <tr>\n",
       "      <th>890</th>\n",
       "      <td>47330.98315</td>\n",
       "      <td>54794.286635</td>\n",
       "      <td>19852.439739</td>\n",
       "      <td>41798.401561</td>\n",
       "      <td>43226.069796</td>\n",
       "    </tr>\n",
       "    <tr>\n",
       "      <th>1293</th>\n",
       "      <td>19301.89355</td>\n",
       "      <td>19588.453796</td>\n",
       "      <td>19804.493411</td>\n",
       "      <td>18754.430976</td>\n",
       "      <td>19104.005540</td>\n",
       "    </tr>\n",
       "    <tr>\n",
       "      <th>259</th>\n",
       "      <td>48750.29180</td>\n",
       "      <td>42097.926353</td>\n",
       "      <td>19722.270131</td>\n",
       "      <td>49434.767895</td>\n",
       "      <td>49606.388005</td>\n",
       "    </tr>\n",
       "    <tr>\n",
       "      <th>...</th>\n",
       "      <td>...</td>\n",
       "      <td>...</td>\n",
       "      <td>...</td>\n",
       "      <td>...</td>\n",
       "      <td>...</td>\n",
       "    </tr>\n",
       "    <tr>\n",
       "      <th>109</th>\n",
       "      <td>60055.53210</td>\n",
       "      <td>52003.743049</td>\n",
       "      <td>19853.277046</td>\n",
       "      <td>62029.132834</td>\n",
       "      <td>60736.348582</td>\n",
       "    </tr>\n",
       "    <tr>\n",
       "      <th>575</th>\n",
       "      <td>20222.89830</td>\n",
       "      <td>19749.260762</td>\n",
       "      <td>19840.814163</td>\n",
       "      <td>24469.528354</td>\n",
       "      <td>21906.195692</td>\n",
       "    </tr>\n",
       "    <tr>\n",
       "      <th>535</th>\n",
       "      <td>14067.12675</td>\n",
       "      <td>15581.930696</td>\n",
       "      <td>19776.457616</td>\n",
       "      <td>14847.302030</td>\n",
       "      <td>15761.466004</td>\n",
       "    </tr>\n",
       "    <tr>\n",
       "      <th>543</th>\n",
       "      <td>66770.42801</td>\n",
       "      <td>43888.963598</td>\n",
       "      <td>19831.850537</td>\n",
       "      <td>52208.012279</td>\n",
       "      <td>48960.607742</td>\n",
       "    </tr>\n",
       "    <tr>\n",
       "      <th>846</th>\n",
       "      <td>22872.70100</td>\n",
       "      <td>25126.955199</td>\n",
       "      <td>19824.369591</td>\n",
       "      <td>24216.589760</td>\n",
       "      <td>24691.522911</td>\n",
       "    </tr>\n",
       "  </tbody>\n",
       "</table>\n",
       "<p>268 rows × 5 columns</p>\n",
       "</div>"
      ],
      "text/plain": [
       "           Actual            Lr           svm            rf            gr\n",
       "764   22095.06825  21793.958326  19800.718418  24965.337742  24848.441178\n",
       "887   23272.17580  24995.325823  19770.106858  22680.856842  24016.868217\n",
       "890   47330.98315  54794.286635  19852.439739  41798.401561  43226.069796\n",
       "1293  19301.89355  19588.453796  19804.493411  18754.430976  19104.005540\n",
       "259   48750.29180  42097.926353  19722.270131  49434.767895  49606.388005\n",
       "...           ...           ...           ...           ...           ...\n",
       "109   60055.53210  52003.743049  19853.277046  62029.132834  60736.348582\n",
       "575   20222.89830  19749.260762  19840.814163  24469.528354  21906.195692\n",
       "535   14067.12675  15581.930696  19776.457616  14847.302030  15761.466004\n",
       "543   66770.42801  43888.963598  19831.850537  52208.012279  48960.607742\n",
       "846   22872.70100  25126.955199  19824.369591  24216.589760  24691.522911\n",
       "\n",
       "[268 rows x 5 columns]"
      ]
     },
     "execution_count": 20,
     "metadata": {},
     "output_type": "execute_result"
    }
   ],
   "source": [
    "y_pred1 = lr.predict(X_test)\n",
    "y_pred2 = svm.predict(X_test)\n",
    "y_pred3 = rf.predict(X_test)\n",
    "y_pred4 = gr.predict(X_test)\n",
    "\n",
    "df1 = pd.DataFrame({'Actual':y_test,'Lr':y_pred1,'svm':y_pred2,'rf':y_pred3,'gr':y_pred4})\n",
    "\n",
    "df1"
   ]
  },
  {
   "cell_type": "code",
   "execution_count": 21,
   "metadata": {
    "id": "isw8f8meDrvP"
   },
   "outputs": [],
   "source": [
    "import matplotlib.pyplot as plt"
   ]
  },
  {
   "cell_type": "code",
   "execution_count": 22,
   "metadata": {
    "colab": {
     "base_uri": "https://localhost:8080/",
     "height": 503
    },
    "id": "fuieajmWD7mw",
    "outputId": "25faa855-7148-4fd9-cb73-07c4975bd348"
   },
   "outputs": [
    {
     "data": {
      "text/plain": [
       "<matplotlib.legend.Legend at 0x1d75fc47e50>"
      ]
     },
     "execution_count": 22,
     "metadata": {},
     "output_type": "execute_result"
    },
    {
     "data": {
      "image/png": "[encoded data removed]",
      "text/plain": [
       "<Figure size 432x288 with 4 Axes>"
      ]
     },
     "metadata": {
      "needs_background": "light"
     },
     "output_type": "display_data"
    }
   ],
   "source": [
    "plt.subplot(221)\n",
    "plt.plot(df1['Actual'].iloc[0:11],label='Actual')\n",
    "plt.plot(df1['Lr'].iloc[0:11],label=\"Lr\")\n",
    "plt.legend()\n",
    "\n",
    "plt.subplot(222)\n",
    "plt.plot(df1['Actual'].iloc[0:11],label='Actual')\n",
    "plt.plot(df1['svm'].iloc[0:11],label=\"svr\")\n",
    "plt.legend()\n",
    "\n",
    "plt.subplot(223)\n",
    "plt.plot(df1['Actual'].iloc[0:11],label='Actual')\n",
    "plt.plot(df1['rf'].iloc[0:11],label=\"rf\")\n",
    "plt.legend()\n",
    "\n",
    "plt.subplot(224)\n",
    "plt.plot(df1['Actual'].iloc[0:11],label='Actual')\n",
    "plt.plot(df1['gr'].iloc[0:11],label=\"gr\")\n",
    "\n",
    "plt.tight_layout()\n",
    "\n",
    "plt.legend()"
   ]
  },
  {
   "cell_type": "markdown",
   "metadata": {
    "id": "mILQU-hAEGIf"
   },
   "source": [
    "Observation:-\n",
    "\n",
    "\n",
    "*   In this we can clearly see that the GradientBoostingRegressor predicts the data more accurately that others algorithm\n",
    "\n"
   ]
  },
  {
   "cell_type": "code",
   "execution_count": 23,
   "metadata": {
    "id": "05P0gz8lEBcM"
   },
   "outputs": [],
   "source": [
    "from sklearn import metrics"
   ]
  },
  {
   "cell_type": "code",
   "execution_count": 24,
   "metadata": {
    "colab": {
     "base_uri": "https://localhost:8080/"
    },
    "id": "iI3DZCbJEjFk",
    "outputId": "05971631-dda9-4d5b-c365-89250ad020ac"
   },
   "outputs": [
    {
     "name": "stdout",
     "output_type": "stream",
     "text": [
      "LinearRegression          :-  0.8213918696363235\n",
      "SVR                       :-  -0.0358337477196955\n",
      "RandomForestRegressor     :-  0.8850283703717371\n",
      "GradientBoostingRegressor :-  0.8969436685148815\n"
     ]
    }
   ],
   "source": [
    "score1 = metrics.r2_score(y_test,y_pred1)\n",
    "score2 = metrics.r2_score(y_test,y_pred2)\n",
    "score3 = metrics.r2_score(y_test,y_pred3)\n",
    "score4 = metrics.r2_score(y_test,y_pred4)\n",
    "\n",
    "print(\"LinearRegression          :- \",score1)\n",
    "print(\"SVR                       :- \",score2)\n",
    "print(\"RandomForestRegressor     :- \",score3)\n",
    "print(\"GradientBoostingRegressor :- \",score4)"
   ]
  },
  {
   "cell_type": "markdown",
   "metadata": {
    "id": "3y6ulpgqEog6"
   },
   "source": [
    "Observation :-\n",
    "\n",
    "*   In this can see that GradientBoostingRegressor have the highest score\n",
    "\n"
   ]
  },
  {
   "cell_type": "code",
   "execution_count": 25,
   "metadata": {
    "colab": {
     "base_uri": "https://localhost:8080/"
    },
    "id": "7ivThPzJEk4r",
    "outputId": "71fe9353-2d37-4359-aa1c-4de7ef5b9565"
   },
   "outputs": [
    {
     "name": "stdout",
     "output_type": "stream",
     "text": [
      "LinearRegression          :-  4189.9849325274345\n",
      "SVR                       :-  10265.4017994207\n",
      "RandomForestRegressor     :-  2744.8140581518674\n",
      "GradientBoostingRegressor :-  2545.220340197713\n"
     ]
    }
   ],
   "source": [
    "s1 = metrics.mean_absolute_error(y_test,y_pred1)\n",
    "s2 = metrics.mean_absolute_error(y_test,y_pred2)\n",
    "s3 = metrics.mean_absolute_error(y_test,y_pred3)\n",
    "s4 = metrics.mean_absolute_error(y_test,y_pred4)\n",
    "\n",
    "print(\"LinearRegression          :- \",s1)\n",
    "print(\"SVR                       :- \",s2)\n",
    "print(\"RandomForestRegressor     :- \",s3)\n",
    "print(\"GradientBoostingRegressor :- \",s4)"
   ]
  },
  {
   "cell_type": "markdown",
   "metadata": {
    "id": "kMNIGsNRGZGI"
   },
   "source": [
    "Observation:-\n",
    "\n",
    "\n",
    "*   From above we can see that GradientBoostingRegressor have the lowest error score\n",
    "\n"
   ]
  },
  {
   "cell_type": "markdown",
   "metadata": {
    "id": "FAtLYw1kGG63"
   },
   "source": [
    "Predict Charges For New Customer"
   ]
  },
  {
   "cell_type": "code",
   "execution_count": 26,
   "metadata": {
    "id": "kjYyQmraFj88"
   },
   "outputs": [],
   "source": [
    "data = {'age' : 40,\n",
    "        'sex' : 1,\n",
    "        'bmi' : 40.30,\n",
    "        'No._of_Family_Members' : 4,\n",
    "        'smoker' : 1,\n",
    "        'region' : 2,\n",
    "        'diabetic_condition':0,\n",
    "        'hypertension':1,\n",
    "        'heart_issue':0}"
   ]
  },
  {
   "cell_type": "code",
   "execution_count": 27,
   "metadata": {
    "colab": {
     "base_uri": "https://localhost:8080/",
     "height": 81
    },
    "id": "SrOOZciqGI6I",
    "outputId": "1bc29848-4eb0-453c-915c-87482400e792"
   },
   "outputs": [
    {
     "data": {
      "text/html": [
       "<div>\n",
       "<style scoped>\n",
       "    .dataframe tbody tr th:only-of-type {\n",
       "        vertical-align: middle;\n",
       "    }\n",
       "\n",
       "    .dataframe tbody tr th {\n",
       "        vertical-align: top;\n",
       "    }\n",
       "\n",
       "    .dataframe thead th {\n",
       "        text-align: right;\n",
       "    }\n",
       "</style>\n",
       "<table border=\"1\" class=\"dataframe\">\n",
       "  <thead>\n",
       "    <tr style=\"text-align: right;\">\n",
       "      <th></th>\n",
       "      <th>age</th>\n",
       "      <th>sex</th>\n",
       "      <th>bmi</th>\n",
       "      <th>No._of_Family_Members</th>\n",
       "      <th>smoker</th>\n",
       "      <th>region</th>\n",
       "      <th>diabetic_condition</th>\n",
       "      <th>hypertension</th>\n",
       "      <th>heart_issue</th>\n",
       "    </tr>\n",
       "  </thead>\n",
       "  <tbody>\n",
       "    <tr>\n",
       "      <th>0</th>\n",
       "      <td>40</td>\n",
       "      <td>1</td>\n",
       "      <td>40.3</td>\n",
       "      <td>4</td>\n",
       "      <td>1</td>\n",
       "      <td>2</td>\n",
       "      <td>0</td>\n",
       "      <td>1</td>\n",
       "      <td>0</td>\n",
       "    </tr>\n",
       "  </tbody>\n",
       "</table>\n",
       "</div>"
      ],
      "text/plain": [
       "   age  sex   bmi  No._of_Family_Members  smoker  region  diabetic_condition  \\\n",
       "0   40    1  40.3                      4       1       2                   0   \n",
       "\n",
       "   hypertension  heart_issue  \n",
       "0             1            0  "
      ]
     },
     "execution_count": 27,
     "metadata": {},
     "output_type": "execute_result"
    }
   ],
   "source": [
    "df = pd.DataFrame(data,index=[0])\n",
    "df"
   ]
  },
  {
   "cell_type": "code",
   "execution_count": 28,
   "metadata": {
    "colab": {
     "base_uri": "https://localhost:8080/"
    },
    "id": "p0lDSu5aGL24",
    "outputId": "e61ddd2e-1597-4378-fb81-f120ac12c31b"
   },
   "outputs": [
    {
     "name": "stdout",
     "output_type": "stream",
     "text": [
      "Medical Insurance cost for New Customer is :  44658.064028575965\n"
     ]
    }
   ],
   "source": [
    "new_pred = gr.predict(df)\n",
    "print(\"Medical Insurance cost for New Customer is : \",new_pred[0])"
   ]
  },
  {
   "cell_type": "markdown",
   "metadata": {
    "id": "RD4Zb0CQGVHy"
   },
   "source": [
    "From above we found that gredianBoostingRegressor is the best model for this dataset. Before production, it is good practice to train our model on the entire dataset."
   ]
  },
  {
   "cell_type": "code",
   "execution_count": 29,
   "metadata": {
    "colab": {
     "base_uri": "https://localhost:8080/",
     "height": 74
    },
    "id": "WFp8CFGQGPg8",
    "outputId": "d285164c-6ebd-4271-eceb-1537c5fae8d7"
   },
   "outputs": [
    {
     "data": {
      "text/plain": [
       "GradientBoostingRegressor()"
      ]
     },
     "execution_count": 29,
     "metadata": {},
     "output_type": "execute_result"
    }
   ],
   "source": [
    "gr = GradientBoostingRegressor()\n",
    "gr.fit(X,y)"
   ]
  },
  {
   "cell_type": "code",
   "execution_count": 30,
   "metadata": {
    "colab": {
     "base_uri": "https://localhost:8080/"
    },
    "id": "fAQAhah9GnZD",
    "outputId": "560efc1d-3c0e-4d63-953f-1e83a050f819"
   },
   "outputs": [
    {
     "name": "stdout",
     "output_type": "stream",
     "text": [
      "Medical Insurance cost for New Customer is :  44599.52671440191\n"
     ]
    }
   ],
   "source": [
    "new_pred = gr.predict(df)\n",
    "print(\"Medical Insurance cost for New Customer is : \",new_pred[0])"
   ]
  },
  {
   "cell_type": "markdown",
   "metadata": {
    "id": "cmBBPmvbGyu2"
   },
   "source": [
    "In this time we have trained the model with entire data and because of that our predicted will be more accurate"
   ]
  },
  {
   "cell_type": "code",
   "execution_count": 31,
   "metadata": {
    "id": "B4stDygAHBMN"
   },
   "outputs": [],
   "source": [
    "#import joblib\n",
    "#joblib.dump(gr, 'insurance_model.pkl')"
   ]
  },
  {
   "cell_type": "code",
   "execution_count": 32,
   "metadata": {},
   "outputs": [
    {
     "data": {
      "text/plain": [
       "['insurance_model']"
      ]
     },
     "execution_count": 32,
     "metadata": {},
     "output_type": "execute_result"
    }
   ],
   "source": [
    "import joblib\n",
    "joblib.dump(gr,'insurance_model')"
   ]
  },
  {
   "cell_type": "code",
   "execution_count": 33,
   "metadata": {},
   "outputs": [],
   "source": [
    "model = joblib.load('insurance_model')"
   ]
  },
  {
   "cell_type": "code",
   "execution_count": null,
   "metadata": {},
   "outputs": [],
   "source": []
  },
  {
   "cell_type": "code",
   "execution_count": 34,
   "metadata": {
    "id": "NWMcLDKjHvwx"
   },
   "outputs": [],
   "source": [
    "import tkinter as tk\n",
    "from tkinter import ttk\n",
    "from tkinter import messagebox\n",
    "\n",
    "# Load your saved model\n",
    "model = joblib.load('insurance_model')\n",
    "\n",
    "# Define a function to perform predictions\n",
    "def predict():\n",
    "    # Extract user input from Tkinter entry fields and dropdown menus\n",
    "    age = float(entry_age.get())\n",
    "    sex = sex_var.get()\n",
    "    bmi = float(entry_bmi.get())\n",
    "    num_family_members = float(entry_family.get())\n",
    "    smoker = smoker_var.get()\n",
    "    region = region_var.get()\n",
    "    \n",
    "    # Convert user input to appropriate numerical values\n",
    "    sex = 1 if sex == 'Male' else 0\n",
    "    smoker = 1 if smoker == 'Yes' else 0\n",
    "    \n",
    "    # Map region to numerical values\n",
    "    region_mapping = {\n",
    "        'Southwest': 1,\n",
    "        'Southeast': 2,\n",
    "        'Northwest': 3,\n",
    "        'Northeast': 4\n",
    "    }\n",
    "    region = region_mapping[region]\n",
    "    \n",
    "    # Convert diabetes, hypertension, and heart issues to 1/0\n",
    "    diabetes = 1 if diabetes_var.get() == 'Yes' else 0\n",
    "    hypertension = 1 if hypertension_var.get() == 'Yes' else 0\n",
    "    heart_issue = 1 if heart_issue_var.get() == 'Yes' else 0\n",
    "    \n",
    "    # Prepare the input data for prediction\n",
    "    input_data = [[age, sex, bmi, num_family_members, smoker, region, diabetes, hypertension, heart_issue]]\n",
    "    \n",
    "    # Perform prediction using the model\n",
    "    prediction = model.predict(input_data)\n",
    "    \n",
    "    # Display the result in a Tkinter label\n",
    "    result_label.config(text=f\"Predicted Insurance Cost: {prediction[0]:.2f} USD\")\n",
    "\n",
    "# Create the Tkinter window\n",
    "window = tk.Tk()\n",
    "window.title(\"Insurance Cost Prediction\")\n",
    "window.geometry(\"400x350\")\n",
    "\n",
    "# Create labels and entry fields for user input\n",
    "label_age = tk.Label(window, text=\"Age:\")\n",
    "label_age.pack()\n",
    "entry_age = tk.Entry(window)\n",
    "entry_age.pack()\n",
    "\n",
    "label_sex = tk.Label(window, text=\"Sex:\")\n",
    "label_sex.pack()\n",
    "sex_var = tk.StringVar(value=\"Male\")  # Default value\n",
    "sex_dropdown = ttk.Combobox(window, textvariable=sex_var, values=[\"Male\", \"Female\"])\n",
    "sex_dropdown.pack()\n",
    "\n",
    "label_bmi = tk.Label(window, text=\"BMI:\")\n",
    "label_bmi.pack()\n",
    "entry_bmi = tk.Entry(window)\n",
    "entry_bmi.pack()\n",
    "\n",
    "label_family = tk.Label(window, text=\"Number of Family Members:\")\n",
    "label_family.pack()\n",
    "entry_family = tk.Entry(window)\n",
    "entry_family.pack()\n",
    "\n",
    "label_smoker = tk.Label(window, text=\"Smoker:\")\n",
    "label_smoker.pack()\n",
    "smoker_var = tk.StringVar(value=\"Yes\")  # Default value\n",
    "smoker_dropdown = ttk.Combobox(window, textvariable=smoker_var, values=[\"Yes\", \"No\"])\n",
    "smoker_dropdown.pack()\n",
    "\n",
    "label_region = tk.Label(window, text=\"Region:\")\n",
    "label_region.pack()\n",
    "region_var = tk.StringVar(value=\"Southwest\")  # Default value\n",
    "region_dropdown = ttk.Combobox(window, textvariable=region_var, values=[\"Southwest\", \"Southeast\", \"Northwest\", \"Northeast\"])\n",
    "region_dropdown.pack()\n",
    "\n",
    "# Create labels and dropdown menus for diabetes, hypertension, and heart issues\n",
    "label_diabetes = tk.Label(window, text=\"Diabetes:\")\n",
    "label_diabetes.pack()\n",
    "diabetes_var = tk.StringVar(value=\"No\")  # Default value\n",
    "diabetes_dropdown = ttk.Combobox(window, textvariable=diabetes_var, values=[\"Yes\", \"No\"])\n",
    "diabetes_dropdown.pack()\n",
    "\n",
    "label_hypertension = tk.Label(window, text=\"Hypertension:\")\n",
    "label_hypertension.pack()\n",
    "hypertension_var = tk.StringVar(value=\"No\")  # Default value\n",
    "hypertension_dropdown = ttk.Combobox(window, textvariable=hypertension_var, values=[\"Yes\", \"No\"])\n",
    "hypertension_dropdown.pack()\n",
    "\n",
    "label_heart_issue = tk.Label(window, text=\"Heart Issue:\")\n",
    "label_heart_issue.pack()\n",
    "heart_issue_var = tk.StringVar(value=\"No\")  # Default value\n",
    "heart_issue_dropdown = ttk.Combobox(window, textvariable=heart_issue_var, values=[\"Yes\", \"No\"])\n",
    "heart_issue_dropdown.pack()\n",
    "\n",
    "# Create a button for predictions\n",
    "predict_button = tk.Button(window, text=\"Predict\", command=predict)\n",
    "predict_button.pack()\n",
    "\n",
    "# Create a label to display the prediction result\n",
    "result_label = tk.Label(window, text=\"\")\n",
    "result_label.pack()\n",
    "\n",
    "# Run the Tkinter main loop\n",
    "window.mainloop()"
   ]
  },
  {
   "cell_type": "code",
   "execution_count": null,
   "metadata": {},
   "outputs": [],
   "source": []
  },
  {
   "cell_type": "code",
   "execution_count": null,
   "metadata": {},
   "outputs": [],
   "source": []
  }
 ],
 "metadata": {
  "colab": {
   "provenance": []
  },
  "kernelspec": {
   "display_name": "Python 3 (ipykernel)",
   "language": "python",
   "name": "python3"
  },
  "language_info": {
   "codemirror_mode": {
    "name": "ipython",
    "version": 3
   },
   "file_extension": ".py",
   "mimetype": "text/x-python",
   "name": "python",
   "nbconvert_exporter": "python",
   "pygments_lexer": "ipython3",
   "version": "3.9.7"
  }
 },
 "nbformat": 4,
 "nbformat_minor": 1
}
